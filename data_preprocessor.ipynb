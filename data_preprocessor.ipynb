{
 "cells": [
  {
   "cell_type": "markdown",
   "id": "1c067e4a",
   "metadata": {},
   "source": [
    "[![Open In Colab](https://colab.research.google.com/assets/colab-badge.svg)](https://colab.research.google.com/github/googlecolab/colabtools/blob/master/notebooks/colab-github-demo.ipynb)"
   ]
  },
  {
   "cell_type": "code",
   "execution_count": null,
   "id": "1db04c50",
   "metadata": {},
   "outputs": [],
   "source": [
    "import sys\n",
    "import pandas as pd"
   ]
  },
  {
   "cell_type": "code",
   "execution_count": null,
   "id": "54910bf3",
   "metadata": {},
   "outputs": [],
   "source": [
    "sys.path.append('./')\n",
    "from helpers import utility_functions as ufn"
   ]
  },
  {
   "cell_type": "code",
   "execution_count": null,
   "id": "89469935",
   "metadata": {},
   "outputs": [],
   "source": [
    "def preprocess_data(mtx_file, csv_name, zero_percentage=0.5):\n",
    "    dataset = fn.read_dataset(mtx_file)\n",
    "    cols = fn.reduce_columns_percentage(dataset, zero_percentage)\n",
    "    dataset = dataset.loc[:, cols]\n",
    "    dataset = fn.data_normalization(dataset)\n",
    "    coldic = {i:cols[i] for i in dataset.columns}\n",
    "    dataset = dataset.rename(columns=coldic)\n",
    "    dataset.to_csv(csv_name, index=False)\n",
    "#     return dataset\n",
    "\n",
    "\n",
    "def preprocess_data_full(mtx_file, csv_name):\n",
    "    \"\"\"Same as above... just without the column reduction technique\"\"\"\n",
    "    dataset = fn.read_dataset(mtx_file)\n",
    "    dataset = fn.data_normalization(dataset)\n",
    "    dataset.to_csv(csv_name, index=False)\n",
    "#     return dataset\n",
    "    \n",
    "\n",
    "def preprocess_tags(tsv_file, csv_name):\n",
    "    mkg = pd.read_csv(tsv_file, sep='\\t')\n",
    "    Y = mkg.loc[:, ['Factor Value[disease]']]\n",
    "    Y.rename(columns = {'Factor Value[disease]':'result'}, inplace = True)\n",
    "    res_numeric = {'normal': 0, 'COVID-19': 1}\n",
    "    Y = Y.replace(res_numeric)\n",
    "    Y.to_csv(csv_name, index=False)  \n",
    "#     return Y"
   ]
  },
  {
   "cell_type": "markdown",
   "id": "b421676d",
   "metadata": {},
   "source": [
    "## Data preprocessing (all columns are kept)"
   ]
  },
  {
   "cell_type": "code",
   "execution_count": null,
   "id": "9b468e1e",
   "metadata": {},
   "outputs": [],
   "source": [
    "preprocess_data_full('datasets/E-MTAB-9221.aggregated_filtered_normalised_counts.mtx', 'dataset_full.csv')"
   ]
  },
  {
   "cell_type": "code",
   "execution_count": null,
   "id": "d704e78d",
   "metadata": {},
   "outputs": [],
   "source": [
    "dataset_full = pd.read_csv('dataset_full.csv')"
   ]
  },
  {
   "cell_type": "code",
   "execution_count": null,
   "id": "78f34597",
   "metadata": {},
   "outputs": [],
   "source": [
    "dataset_full"
   ]
  },
  {
   "cell_type": "markdown",
   "id": "b5477aad",
   "metadata": {},
   "source": [
    "## Data preprocessing with column reduction (for acceleration purposes)"
   ]
  },
  {
   "cell_type": "code",
   "execution_count": null,
   "id": "31e6754f",
   "metadata": {},
   "outputs": [],
   "source": [
    "preprocess_data('datasets/E-MTAB-9221.aggregated_filtered_normalised_counts.mtx', 'dataset_6000_cols.csv', 0.91)"
   ]
  },
  {
   "cell_type": "code",
   "execution_count": null,
   "id": "0e300fc4",
   "metadata": {},
   "outputs": [],
   "source": [
    "dataset_6000 = pd.read_csv('dataset_6000_cols.csv')"
   ]
  },
  {
   "cell_type": "code",
   "execution_count": null,
   "id": "57a18380",
   "metadata": {},
   "outputs": [],
   "source": [
    "dataset_6000"
   ]
  },
  {
   "cell_type": "markdown",
   "id": "80856ead",
   "metadata": {},
   "source": [
    "## Tag preprocessing"
   ]
  },
  {
   "cell_type": "code",
   "execution_count": null,
   "id": "236f0322",
   "metadata": {},
   "outputs": [],
   "source": [
    "preprocess_tags('datasets/ExpDesign-E-MTAB-9221.tsv', 'emtab_tags.csv')"
   ]
  },
  {
   "cell_type": "code",
   "execution_count": null,
   "id": "626f9656",
   "metadata": {},
   "outputs": [],
   "source": [
    "tags = pd.read('emtab_tags.csv')"
   ]
  },
  {
   "cell_type": "code",
   "execution_count": null,
   "id": "a9e16ec7",
   "metadata": {},
   "outputs": [],
   "source": [
    "tags"
   ]
  }
 ],
 "metadata": {
  "kernelspec": {
   "display_name": "Python 3",
   "language": "python",
   "name": "python3"
  },
  "language_info": {
   "codemirror_mode": {
    "name": "ipython",
    "version": 3
   },
   "file_extension": ".py",
   "mimetype": "text/x-python",
   "name": "python",
   "nbconvert_exporter": "python",
   "pygments_lexer": "ipython3",
   "version": "3.9.4"
  }
 },
 "nbformat": 4,
 "nbformat_minor": 5
}
