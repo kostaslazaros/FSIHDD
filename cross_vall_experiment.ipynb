{
 "cells": [
  {
   "cell_type": "markdown",
   "id": "3828cd4d",
   "metadata": {},
   "source": [
    "[![Open In Colab](https://colab.research.google.com/assets/colab-badge.svg)](https://colab.research.google.com/github/kostaslazaros/FSIHDD/blob/master/cross_vall_experiment.ipynb)"
   ]
  },
  {
   "cell_type": "code",
   "execution_count": 1,
   "id": "acad4e98",
   "metadata": {},
   "outputs": [],
   "source": [
    "import pandas as pd\n",
    "from sklearn.ensemble import RandomForestClassifier\n",
    "from sklearn.linear_model import LogisticRegression\n",
    "from sklearn import svm\n",
    "from sklearn.neighbors import KNeighborsClassifier\n",
    "from sklearn.model_selection import cross_validate\n",
    "import warnings\n",
    "warnings.filterwarnings('ignore')"
   ]
  },
  {
   "cell_type": "markdown",
   "id": "9d417115",
   "metadata": {},
   "source": [
    "## Import utility functions"
   ]
  },
  {
   "cell_type": "code",
   "execution_count": 2,
   "id": "00d15379",
   "metadata": {},
   "outputs": [],
   "source": [
    "import sys\n",
    "sys.path.append('./')\n",
    "\n",
    "from helpers import utility_functions as ufn"
   ]
  },
  {
   "cell_type": "markdown",
   "id": "45a524fb",
   "metadata": {},
   "source": [
    "## Initialize classifiers"
   ]
  },
  {
   "cell_type": "code",
   "execution_count": 3,
   "id": "9afcc0d8",
   "metadata": {},
   "outputs": [],
   "source": [
    "rfc = RandomForestClassifier(n_estimators=100)\n",
    "svmc = svm.SVC(kernel='linear', C=1)\n",
    "lrc = LogisticRegression(random_state=0)\n",
    "knn = KNeighborsClassifier(n_neighbors=5)"
   ]
  },
  {
   "cell_type": "code",
   "execution_count": 4,
   "id": "35ffc956",
   "metadata": {},
   "outputs": [],
   "source": [
    "def experimental_cross_val(alg, X, Y, folds, num):\n",
    "    acc_list = []\n",
    "    f1_list = []\n",
    "    i = 1\n",
    "    while(i <= num):\n",
    "        print(f'{folds}-fold cross-validation run: {i}', end=' ')\n",
    "        alg_scores = cross_validate(alg, X, Y, scoring=('accuracy', 'f1') , cv=folds)\n",
    "        print('Done')\n",
    "        acc_list += list(alg_scores['test_accuracy'])\n",
    "        f1_list += list(alg_scores['test_f1'])\n",
    "        i+=1\n",
    "    return(acc_list, f1_list)"
   ]
  },
  {
   "cell_type": "code",
   "execution_count": 5,
   "id": "23c37d10",
   "metadata": {},
   "outputs": [],
   "source": [
    "def list2csv(acc_list, f1_list, csv_name):\n",
    "    metric_list_df = pd.DataFrame(list(zip(acc_list, f1_list)),\n",
    "                                  columns =['Accuracy', 'F1 score'])\n",
    "    metric_list_df['Data'] = ['Original']* 100 + ['FSC'] * 100 + ['ANOVA'] * 100\n",
    "    metric_list_df.to_csv(csv_name, index=False)"
   ]
  },
  {
   "cell_type": "markdown",
   "id": "159f8cb8",
   "metadata": {},
   "source": [
    "## Get dataset (all columns) and tags"
   ]
  },
  {
   "cell_type": "code",
   "execution_count": 6,
   "id": "ec99719d",
   "metadata": {},
   "outputs": [],
   "source": [
    "X_full = pd.read_csv('dataset_full.csv')"
   ]
  },
  {
   "cell_type": "code",
   "execution_count": 8,
   "id": "024d8424",
   "metadata": {},
   "outputs": [],
   "source": [
    "X_consensus = pd.read_csv('consensus_data_6000.csv')"
   ]
  },
  {
   "cell_type": "code",
   "execution_count": 17,
   "id": "01419860",
   "metadata": {},
   "outputs": [],
   "source": [
    "X_ANOVA = pd.read_csv('dataset_ANOVA.csv')"
   ]
  },
  {
   "cell_type": "code",
   "execution_count": 7,
   "id": "611e9f7c",
   "metadata": {},
   "outputs": [],
   "source": [
    "Y = pd.read_csv('emtab_tags.csv')"
   ]
  },
  {
   "cell_type": "markdown",
   "id": "aa7d5ed8",
   "metadata": {},
   "source": [
    "### Get lists for Random Forest (on full dataset -> 18958 features/genes)"
   ]
  },
  {
   "cell_type": "code",
   "execution_count": 9,
   "id": "02abd317",
   "metadata": {},
   "outputs": [
    {
     "name": "stdout",
     "output_type": "stream",
     "text": [
      "10-fold cross-validation run: 1 Done\n",
      "10-fold cross-validation run: 2 Done\n",
      "10-fold cross-validation run: 3 Done\n",
      "10-fold cross-validation run: 4 Done\n",
      "10-fold cross-validation run: 5 Done\n",
      "10-fold cross-validation run: 6 Done\n",
      "10-fold cross-validation run: 7 Done\n",
      "10-fold cross-validation run: 8 Done\n",
      "10-fold cross-validation run: 9 Done\n",
      "10-fold cross-validation run: 10 Done\n"
     ]
    }
   ],
   "source": [
    "(rfc_acc_full_data, rfc_f1_full_data) = experimental_cross_val(rfc, X_full, Y, 10, 10)"
   ]
  },
  {
   "cell_type": "markdown",
   "id": "652b13a4",
   "metadata": {},
   "source": [
    "### Get lists for Random Forest (on consensus dataset -> 762 features/genes)"
   ]
  },
  {
   "cell_type": "code",
   "execution_count": 10,
   "id": "d3a48b9f",
   "metadata": {
    "scrolled": true
   },
   "outputs": [
    {
     "name": "stdout",
     "output_type": "stream",
     "text": [
      "10-fold cross-validation run: 1 Done\n",
      "10-fold cross-validation run: 2 Done\n",
      "10-fold cross-validation run: 3 Done\n",
      "10-fold cross-validation run: 4 Done\n",
      "10-fold cross-validation run: 5 Done\n",
      "10-fold cross-validation run: 6 Done\n",
      "10-fold cross-validation run: 7 Done\n",
      "10-fold cross-validation run: 8 Done\n",
      "10-fold cross-validation run: 9 Done\n",
      "10-fold cross-validation run: 10 Done\n"
     ]
    }
   ],
   "source": [
    "(rfc_acc_cons_data, rfc_f1_cons_data) = experimental_cross_val(rfc, X_consensus, Y, 10, 10)"
   ]
  },
  {
   "cell_type": "markdown",
   "id": "aee9b305",
   "metadata": {},
   "source": [
    "### Get lists for Random Forest (on ANOVA reduced dataset -> 10 features/genes)"
   ]
  },
  {
   "cell_type": "code",
   "execution_count": 19,
   "id": "db7aa77f",
   "metadata": {},
   "outputs": [
    {
     "name": "stdout",
     "output_type": "stream",
     "text": [
      "10-fold cross-validation run: 1 Done\n",
      "10-fold cross-validation run: 2 Done\n",
      "10-fold cross-validation run: 3 Done\n",
      "10-fold cross-validation run: 4 Done\n",
      "10-fold cross-validation run: 5 Done\n",
      "10-fold cross-validation run: 6 Done\n",
      "10-fold cross-validation run: 7 Done\n",
      "10-fold cross-validation run: 8 Done\n",
      "10-fold cross-validation run: 9 Done\n",
      "10-fold cross-validation run: 10 Done\n"
     ]
    }
   ],
   "source": [
    "(rfc_acc_ANOVA_data, rfc_f1_ANOVA_data) = experimental_cross_val(rfc, X_ANOVA, Y, 10, 10)"
   ]
  },
  {
   "cell_type": "markdown",
   "id": "4b6dde4f",
   "metadata": {},
   "source": [
    "### Get lists for Logistic Regression (on full dataset -> 18958 features/genes)"
   ]
  },
  {
   "cell_type": "code",
   "execution_count": 11,
   "id": "80a7cc92",
   "metadata": {},
   "outputs": [
    {
     "name": "stdout",
     "output_type": "stream",
     "text": [
      "10-fold cross-validation run: 1 Done\n",
      "10-fold cross-validation run: 2 Done\n",
      "10-fold cross-validation run: 3 Done\n",
      "10-fold cross-validation run: 4 Done\n",
      "10-fold cross-validation run: 5 Done\n",
      "10-fold cross-validation run: 6 Done\n",
      "10-fold cross-validation run: 7 Done\n",
      "10-fold cross-validation run: 8 Done\n",
      "10-fold cross-validation run: 9 Done\n",
      "10-fold cross-validation run: 10 Done\n"
     ]
    }
   ],
   "source": [
    "(lrc_acc_full_data, lrc_f1_full_data) = experimental_cross_val(lrc, X_full, Y, 10, 10)"
   ]
  },
  {
   "cell_type": "markdown",
   "id": "53aa24c3",
   "metadata": {},
   "source": [
    "### Get lists for Logistic Regression (on consensus dataset -> 762 features/genes)"
   ]
  },
  {
   "cell_type": "code",
   "execution_count": 12,
   "id": "cf51b23a",
   "metadata": {},
   "outputs": [
    {
     "name": "stdout",
     "output_type": "stream",
     "text": [
      "10-fold cross-validation run: 1 Done\n",
      "10-fold cross-validation run: 2 Done\n",
      "10-fold cross-validation run: 3 Done\n",
      "10-fold cross-validation run: 4 Done\n",
      "10-fold cross-validation run: 5 Done\n",
      "10-fold cross-validation run: 6 Done\n",
      "10-fold cross-validation run: 7 Done\n",
      "10-fold cross-validation run: 8 Done\n",
      "10-fold cross-validation run: 9 Done\n",
      "10-fold cross-validation run: 10 Done\n"
     ]
    }
   ],
   "source": [
    "(lrc_acc_cons_data, lrc_f1_cons_data) = experimental_cross_val(lrc, X_consensus, Y, 10, 10)"
   ]
  },
  {
   "cell_type": "markdown",
   "id": "80f628b5",
   "metadata": {},
   "source": [
    "### Get lists for Logistic Regression (on ANOVA reduced dataset -> 10 features/genes)"
   ]
  },
  {
   "cell_type": "code",
   "execution_count": 20,
   "id": "cc823b53",
   "metadata": {},
   "outputs": [
    {
     "name": "stdout",
     "output_type": "stream",
     "text": [
      "10-fold cross-validation run: 1 Done\n",
      "10-fold cross-validation run: 2 Done\n",
      "10-fold cross-validation run: 3 Done\n",
      "10-fold cross-validation run: 4 Done\n",
      "10-fold cross-validation run: 5 Done\n",
      "10-fold cross-validation run: 6 Done\n",
      "10-fold cross-validation run: 7 Done\n",
      "10-fold cross-validation run: 8 Done\n",
      "10-fold cross-validation run: 9 Done\n",
      "10-fold cross-validation run: 10 Done\n"
     ]
    }
   ],
   "source": [
    "(lrc_acc_ANOVA_data, lrc_f1_ANOVA_data) = experimental_cross_val(lrc, X_ANOVA, Y, 10, 10)"
   ]
  },
  {
   "cell_type": "markdown",
   "id": "f9007157",
   "metadata": {},
   "source": [
    "### Get lists for K Nearest Neighbors (on full dataset -> 18958 features/genes)"
   ]
  },
  {
   "cell_type": "code",
   "execution_count": 13,
   "id": "6f3c8f14",
   "metadata": {},
   "outputs": [
    {
     "name": "stdout",
     "output_type": "stream",
     "text": [
      "10-fold cross-validation run: 1 Done\n",
      "10-fold cross-validation run: 2 Done\n",
      "10-fold cross-validation run: 3 Done\n",
      "10-fold cross-validation run: 4 Done\n",
      "10-fold cross-validation run: 5 Done\n",
      "10-fold cross-validation run: 6 Done\n",
      "10-fold cross-validation run: 7 Done\n",
      "10-fold cross-validation run: 8 Done\n",
      "10-fold cross-validation run: 9 Done\n",
      "10-fold cross-validation run: 10 Done\n"
     ]
    }
   ],
   "source": [
    "(knn_acc_full_data, knn_f1_full_data) = experimental_cross_val(knn, X_full, Y, 10, 10)"
   ]
  },
  {
   "cell_type": "markdown",
   "id": "98cdfa68",
   "metadata": {},
   "source": [
    "### Get lists for K Nearest Neighbors (on consensus dataset -> 762 features/genes)"
   ]
  },
  {
   "cell_type": "code",
   "execution_count": 14,
   "id": "da0e3e42",
   "metadata": {},
   "outputs": [
    {
     "name": "stdout",
     "output_type": "stream",
     "text": [
      "10-fold cross-validation run: 1 Done\n",
      "10-fold cross-validation run: 2 Done\n",
      "10-fold cross-validation run: 3 Done\n",
      "10-fold cross-validation run: 4 Done\n",
      "10-fold cross-validation run: 5 Done\n",
      "10-fold cross-validation run: 6 Done\n",
      "10-fold cross-validation run: 7 Done\n",
      "10-fold cross-validation run: 8 Done\n",
      "10-fold cross-validation run: 9 Done\n",
      "10-fold cross-validation run: 10 Done\n"
     ]
    }
   ],
   "source": [
    "(knn_acc_cons_data, knn_f1_cons_data) = experimental_cross_val(knn, X_consensus, Y, 10, 10)"
   ]
  },
  {
   "cell_type": "markdown",
   "id": "a881b153",
   "metadata": {},
   "source": [
    "### Get lists for K Nearest Neighbors (on ANOVA reduced dataset -> 10 features/genes)"
   ]
  },
  {
   "cell_type": "code",
   "execution_count": 21,
   "id": "d489aaaa",
   "metadata": {},
   "outputs": [
    {
     "name": "stdout",
     "output_type": "stream",
     "text": [
      "10-fold cross-validation run: 1 Done\n",
      "10-fold cross-validation run: 2 Done\n",
      "10-fold cross-validation run: 3 Done\n",
      "10-fold cross-validation run: 4 Done\n",
      "10-fold cross-validation run: 5 Done\n",
      "10-fold cross-validation run: 6 Done\n",
      "10-fold cross-validation run: 7 Done\n",
      "10-fold cross-validation run: 8 Done\n",
      "10-fold cross-validation run: 9 Done\n",
      "10-fold cross-validation run: 10 Done\n"
     ]
    }
   ],
   "source": [
    "(knn_acc_ANOVA_data, knn_f1_ANOVA_data) = experimental_cross_val(knn, X_ANOVA, Y, 10, 10)"
   ]
  },
  {
   "cell_type": "markdown",
   "id": "bdb1070d",
   "metadata": {},
   "source": [
    "### Get lists for Support Vector Machine (on full dataset -> 18958 features/genes)"
   ]
  },
  {
   "cell_type": "code",
   "execution_count": 15,
   "id": "2a1461e6",
   "metadata": {
    "scrolled": true
   },
   "outputs": [
    {
     "name": "stdout",
     "output_type": "stream",
     "text": [
      "10-fold cross-validation run: 1 Done\n",
      "10-fold cross-validation run: 2 Done\n",
      "10-fold cross-validation run: 3 Done\n",
      "10-fold cross-validation run: 4 Done\n",
      "10-fold cross-validation run: 5 Done\n",
      "10-fold cross-validation run: 6 Done\n",
      "10-fold cross-validation run: 7 Done\n",
      "10-fold cross-validation run: 8 Done\n",
      "10-fold cross-validation run: 9 Done\n",
      "10-fold cross-validation run: 10 Done\n"
     ]
    }
   ],
   "source": [
    "(svm_acc_full_data, svm_f1_full_data) = experimental_cross_val(svmc, X_full, Y, 10, 10)"
   ]
  },
  {
   "cell_type": "markdown",
   "id": "0c2773b7",
   "metadata": {},
   "source": [
    "### Get lists for Support Vector Machine (on consensus dataset -> 762 features/genes)"
   ]
  },
  {
   "cell_type": "code",
   "execution_count": 16,
   "id": "ab81eae0",
   "metadata": {},
   "outputs": [
    {
     "name": "stdout",
     "output_type": "stream",
     "text": [
      "10-fold cross-validation run: 1 Done\n",
      "10-fold cross-validation run: 2 Done\n",
      "10-fold cross-validation run: 3 Done\n",
      "10-fold cross-validation run: 4 Done\n",
      "10-fold cross-validation run: 5 Done\n",
      "10-fold cross-validation run: 6 Done\n",
      "10-fold cross-validation run: 7 Done\n",
      "10-fold cross-validation run: 8 Done\n",
      "10-fold cross-validation run: 9 Done\n",
      "10-fold cross-validation run: 10 Done\n"
     ]
    }
   ],
   "source": [
    "(svm_acc_cons_data, svm_f1_cons_data) = experimental_cross_val(svmc, X_consensus, Y, 10, 10)"
   ]
  },
  {
   "cell_type": "markdown",
   "id": "f538b165",
   "metadata": {},
   "source": [
    "### Get lists for Support Vector Machine (on ANOVA reduced dataset -> 10 features/genes)"
   ]
  },
  {
   "cell_type": "code",
   "execution_count": 22,
   "id": "d13c37bc",
   "metadata": {},
   "outputs": [
    {
     "name": "stdout",
     "output_type": "stream",
     "text": [
      "10-fold cross-validation run: 1 Done\n",
      "10-fold cross-validation run: 2 Done\n",
      "10-fold cross-validation run: 3 Done\n",
      "10-fold cross-validation run: 4 Done\n",
      "10-fold cross-validation run: 5 Done\n",
      "10-fold cross-validation run: 6 Done\n",
      "10-fold cross-validation run: 7 Done\n",
      "10-fold cross-validation run: 8 Done\n",
      "10-fold cross-validation run: 9 Done\n",
      "10-fold cross-validation run: 10 Done\n"
     ]
    }
   ],
   "source": [
    "(svm_acc_ANOVA_data, svm_f1_ANOVA_data) = experimental_cross_val(svmc, X_ANOVA, Y, 10, 10)"
   ]
  },
  {
   "cell_type": "markdown",
   "id": "6b8fbbe9",
   "metadata": {},
   "source": [
    "### Merging lists for Random Forest"
   ]
  },
  {
   "cell_type": "code",
   "execution_count": 46,
   "id": "ae1e012c",
   "metadata": {},
   "outputs": [],
   "source": [
    "rfc_acc_data = rfc_acc_full_data + rfc_acc_cons_data + rfc_acc_ANOVA_data"
   ]
  },
  {
   "cell_type": "code",
   "execution_count": 47,
   "id": "6962ba71",
   "metadata": {},
   "outputs": [],
   "source": [
    "rfc_f1_data = rfc_f1_full_data + rfc_f1_cons_data + rfc_f1_ANOVA_data"
   ]
  },
  {
   "cell_type": "markdown",
   "id": "b7584c56",
   "metadata": {},
   "source": [
    "### Merging lists for Logistic Regression"
   ]
  },
  {
   "cell_type": "code",
   "execution_count": 48,
   "id": "5ebab3e6",
   "metadata": {},
   "outputs": [],
   "source": [
    "lrc_acc_data = lrc_acc_full_data + lrc_acc_cons_data + lrc_acc_ANOVA_data"
   ]
  },
  {
   "cell_type": "code",
   "execution_count": 49,
   "id": "1181d811",
   "metadata": {},
   "outputs": [],
   "source": [
    "lrc_f1_data = lrc_f1_full_data + lrc_f1_cons_data + lrc_f1_ANOVA_data"
   ]
  },
  {
   "cell_type": "markdown",
   "id": "8f3d0ca5",
   "metadata": {},
   "source": [
    "### Merging lists for K Nearest Neighbors"
   ]
  },
  {
   "cell_type": "code",
   "execution_count": 50,
   "id": "9ce98198",
   "metadata": {},
   "outputs": [],
   "source": [
    "knn_acc_data = knn_acc_full_data + knn_acc_cons_data + knn_acc_ANOVA_data"
   ]
  },
  {
   "cell_type": "code",
   "execution_count": 51,
   "id": "4f26e2e9",
   "metadata": {},
   "outputs": [],
   "source": [
    "knn_f1_data = knn_f1_full_data + knn_f1_cons_data + knn_f1_ANOVA_data"
   ]
  },
  {
   "cell_type": "markdown",
   "id": "ac7c4831",
   "metadata": {},
   "source": [
    "### Merging lists for Support vector Machine"
   ]
  },
  {
   "cell_type": "code",
   "execution_count": 52,
   "id": "d4cfaef2",
   "metadata": {},
   "outputs": [],
   "source": [
    "svm_acc_data = svm_acc_full_data + svm_acc_cons_data + svm_acc_ANOVA_data"
   ]
  },
  {
   "cell_type": "code",
   "execution_count": 53,
   "id": "2bc984ed",
   "metadata": {},
   "outputs": [],
   "source": [
    "svm_f1_data = svm_f1_full_data + svm_f1_cons_data + svm_f1_ANOVA_data"
   ]
  },
  {
   "cell_type": "markdown",
   "id": "fd817d19",
   "metadata": {},
   "source": [
    "### Create dataframe for Random Forest metrics"
   ]
  },
  {
   "cell_type": "code",
   "execution_count": 54,
   "id": "3ae991f9",
   "metadata": {},
   "outputs": [],
   "source": [
    "list2csv(rfc_acc_data, rfc_f1_data, 'random_forest_scores.csv')"
   ]
  },
  {
   "cell_type": "markdown",
   "id": "787134f9",
   "metadata": {},
   "source": [
    "### Create dataframe for Logistic Regression metrics"
   ]
  },
  {
   "cell_type": "code",
   "execution_count": 55,
   "id": "16f9fbf6",
   "metadata": {},
   "outputs": [],
   "source": [
    "list2csv(lrc_acc_data, lrc_f1_data, 'logistic_regression_scores.csv')"
   ]
  },
  {
   "cell_type": "markdown",
   "id": "40a6321d",
   "metadata": {},
   "source": [
    "### Create dataframe for K Nearest Neighbors metrics"
   ]
  },
  {
   "cell_type": "code",
   "execution_count": 56,
   "id": "50b563d8",
   "metadata": {},
   "outputs": [],
   "source": [
    "list2csv(knn_acc_data, knn_f1_data, 'k_nearest_neighbors_scores.csv')"
   ]
  },
  {
   "cell_type": "markdown",
   "id": "5c14dc4e",
   "metadata": {},
   "source": [
    "### Create dataframe for Support Vector Machine metrics"
   ]
  },
  {
   "cell_type": "code",
   "execution_count": 57,
   "id": "4d6e6f6c",
   "metadata": {},
   "outputs": [],
   "source": [
    "list2csv(svm_acc_data, svm_f1_data, 'support_vector_machine_scores.csv')"
   ]
  }
 ],
 "metadata": {
  "kernelspec": {
   "display_name": "Python 3",
   "language": "python",
   "name": "python3"
  },
  "language_info": {
   "codemirror_mode": {
    "name": "ipython",
    "version": 3
   },
   "file_extension": ".py",
   "mimetype": "text/x-python",
   "name": "python",
   "nbconvert_exporter": "python",
   "pygments_lexer": "ipython3",
   "version": "3.9.4"
  }
 },
 "nbformat": 4,
 "nbformat_minor": 5
}
