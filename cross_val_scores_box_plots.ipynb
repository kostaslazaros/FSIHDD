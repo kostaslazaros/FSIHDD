{
 "cells": [
  {
   "cell_type": "markdown",
   "id": "3828cd4d",
   "metadata": {},
   "source": [
    "[![Open In Colab](https://colab.research.google.com/assets/colab-badge.svg)](https://colab.research.google.com/github/kostaslazaros/FSIHDD/blob/master/cross_val_scores_box_plots.ipynb)"
   ]
  },
  {
   "cell_type": "code",
   "execution_count": 5,
   "id": "acad4e98",
   "metadata": {},
   "outputs": [],
   "source": [
    "import pandas as pd\n",
    "from sklearn.ensemble import RandomForestClassifier\n",
    "from sklearn.linear_model import LogisticRegression\n",
    "from sklearn import svm\n",
    "from sklearn.neighbors import KNeighborsClassifier\n",
    "from sklearn.model_selection import cross_validate\n",
    "import warnings\n",
    "warnings.filterwarnings('ignore')"
   ]
  },
  {
   "cell_type": "markdown",
   "id": "9d417115",
   "metadata": {},
   "source": [
    "## Import utility functions"
   ]
  },
  {
   "cell_type": "code",
   "execution_count": 2,
   "id": "00d15379",
   "metadata": {},
   "outputs": [],
   "source": [
    "import sys\n",
    "sys.path.append('./')\n",
    "\n",
    "from helpers import utility_functions as ufn"
   ]
  },
  {
   "cell_type": "markdown",
   "id": "45a524fb",
   "metadata": {},
   "source": [
    "## Initialize classifiers"
   ]
  },
  {
   "cell_type": "code",
   "execution_count": 3,
   "id": "9afcc0d8",
   "metadata": {},
   "outputs": [],
   "source": [
    "rfc = RandomForestClassifier(n_estimators=100)\n",
    "svmc = svm.SVC(kernel='linear', C=1)\n",
    "lrc = LogisticRegression(random_state=0)\n",
    "knn = KNeighborsClassifier(n_neighbors=5)"
   ]
  },
  {
   "cell_type": "markdown",
   "id": "159f8cb8",
   "metadata": {},
   "source": [
    "## Get dataset (all columns) and tags"
   ]
  },
  {
   "cell_type": "code",
   "execution_count": 6,
   "id": "ec99719d",
   "metadata": {},
   "outputs": [],
   "source": [
    "X_full = pd.read_csv('dataset_full.csv')"
   ]
  },
  {
   "cell_type": "code",
   "execution_count": 7,
   "id": "611e9f7c",
   "metadata": {},
   "outputs": [],
   "source": [
    "Y = pd.read_csv('emtab_tags.csv')"
   ]
  },
  {
   "cell_type": "code",
   "execution_count": null,
   "id": "31845164",
   "metadata": {},
   "outputs": [],
   "source": [
    "X_full"
   ]
  },
  {
   "cell_type": "code",
   "execution_count": null,
   "id": "5201323a",
   "metadata": {},
   "outputs": [],
   "source": [
    "Y"
   ]
  },
  {
   "cell_type": "markdown",
   "id": "e81ec189",
   "metadata": {},
   "source": [
    "## Consensus dataset (after RFECV and borda rank based count)"
   ]
  },
  {
   "cell_type": "code",
   "execution_count": 11,
   "id": "221ff398",
   "metadata": {},
   "outputs": [],
   "source": [
    "X_consensus = pd.read_csv('consensus_data_6000.csv')"
   ]
  },
  {
   "cell_type": "code",
   "execution_count": null,
   "id": "61947ade",
   "metadata": {},
   "outputs": [],
   "source": [
    "X_consensus"
   ]
  },
  {
   "cell_type": "markdown",
   "id": "819293de",
   "metadata": {},
   "source": [
    "## Cross validation for full-feature dataset (18958 features/genes)"
   ]
  },
  {
   "cell_type": "code",
   "execution_count": 8,
   "id": "d5f12909",
   "metadata": {},
   "outputs": [],
   "source": [
    "rfc_scores = cross_validate(rfc, X_full, Y['result'], scoring=('accuracy', 'f1', 'roc_auc'), cv=10, return_estimator=True)"
   ]
  },
  {
   "cell_type": "code",
   "execution_count": 9,
   "id": "6b0e47d6",
   "metadata": {},
   "outputs": [
    {
     "name": "stdout",
     "output_type": "stream",
     "text": [
      "Random Forest scores\n",
      "0.793 accuracy with a standard deviation of 0.032\n",
      "0.872 f1 score with a standard deviation of 0.026\n",
      "0.909 roc_auc with a standard deviation of 0.091\n"
     ]
    }
   ],
   "source": [
    "ufn.show_cross_val_scores(rfc_scores, 'Random Forest')"
   ]
  },
  {
   "cell_type": "code",
   "execution_count": null,
   "id": "a4c7c3c9",
   "metadata": {},
   "outputs": [],
   "source": [
    "svm_scores = cross_validate(svmc, X_full, Y['result'], scoring=('accuracy', 'f1', 'roc_auc'), cv=10, return_estimator=True)"
   ]
  },
  {
   "cell_type": "code",
   "execution_count": null,
   "id": "750a357b",
   "metadata": {},
   "outputs": [],
   "source": [
    "ufn.show_cross_val_scores(svm_scores, 'Support Vector Machine')"
   ]
  },
  {
   "cell_type": "code",
   "execution_count": null,
   "id": "5b978867",
   "metadata": {},
   "outputs": [],
   "source": [
    "lrc_scores = cross_validate(lrc, X_full, Y['result'], scoring=('accuracy', 'f1', 'roc_auc'), cv=10, return_estimator=True)"
   ]
  },
  {
   "cell_type": "code",
   "execution_count": null,
   "id": "41ee7a20",
   "metadata": {},
   "outputs": [],
   "source": [
    "ufn.show_cross_val_scores(lrc_scores, 'Logistic Regression')"
   ]
  },
  {
   "cell_type": "code",
   "execution_count": null,
   "id": "0965c68c",
   "metadata": {},
   "outputs": [],
   "source": [
    "knn_scores = cross_validate(knn, X_full, Y['result'], scoring=('accuracy', 'f1', 'roc_auc'), cv=10, return_estimator=True)"
   ]
  },
  {
   "cell_type": "code",
   "execution_count": null,
   "id": "37b075ce",
   "metadata": {},
   "outputs": [],
   "source": [
    "ufn.show_cross_val_scores(knn_scores, 'k nearest neighbors')"
   ]
  },
  {
   "cell_type": "markdown",
   "id": "c10a77e5",
   "metadata": {},
   "source": [
    "## Cross validation for \"classic\" classifiers (consensus data)"
   ]
  },
  {
   "cell_type": "code",
   "execution_count": 12,
   "id": "2cfe11b3",
   "metadata": {},
   "outputs": [],
   "source": [
    "rfc_scores_consensus = cross_validate(rfc, X_consensus, Y['result'], scoring=('accuracy', 'f1', 'roc_auc'), cv=10, return_estimator=True)"
   ]
  },
  {
   "cell_type": "code",
   "execution_count": 13,
   "id": "3cfe75d1",
   "metadata": {},
   "outputs": [
    {
     "name": "stdout",
     "output_type": "stream",
     "text": [
      "Random Forest scores\n",
      "0.858 accuracy with a standard deviation of 0.094\n",
      "0.900 f1 score with a standard deviation of 0.087\n",
      "0.948 roc_auc with a standard deviation of 0.075\n"
     ]
    }
   ],
   "source": [
    "ufn.show_cross_val_scores(rfc_scores_consensus, 'Random Forest')"
   ]
  },
  {
   "cell_type": "code",
   "execution_count": null,
   "id": "340d2ed8",
   "metadata": {},
   "outputs": [],
   "source": [
    "svm_scores_consensus = cross_validate(svmc, X_consensus, Y['result'], scoring=('accuracy', 'f1', 'roc_auc'), cv=10, return_estimator=True)"
   ]
  },
  {
   "cell_type": "code",
   "execution_count": null,
   "id": "5c1a1543",
   "metadata": {},
   "outputs": [],
   "source": [
    "ufn.show_cross_val_scores(svm_scores_consensus, 'Support Vector Machine')"
   ]
  },
  {
   "cell_type": "code",
   "execution_count": null,
   "id": "0020ab3c",
   "metadata": {},
   "outputs": [],
   "source": [
    "lrc_scores_consensus = cross_validate(lrc, X_consensus, Y['result'], scoring=('accuracy', 'f1', 'roc_auc'), cv=10, return_estimator=True)"
   ]
  },
  {
   "cell_type": "code",
   "execution_count": null,
   "id": "5b30d74f",
   "metadata": {},
   "outputs": [],
   "source": [
    "ufn.show_cross_val_scores(lrc_scores_consensus, 'Logistic Regression')"
   ]
  },
  {
   "cell_type": "code",
   "execution_count": null,
   "id": "051fdab8",
   "metadata": {},
   "outputs": [],
   "source": [
    "knn_scores_consensus = cross_validate(knn, X_consensus, Y['result'], scoring=('accuracy', 'f1', 'roc_auc'), cv=10, return_estimator=True)"
   ]
  },
  {
   "cell_type": "code",
   "execution_count": null,
   "id": "6f8f4124",
   "metadata": {},
   "outputs": [],
   "source": [
    "ufn.show_cross_val_scores(knn_scores_consensus, 'k nearest neighbors')"
   ]
  },
  {
   "cell_type": "markdown",
   "id": "aa6d7818",
   "metadata": {},
   "source": [
    "## Random Forest metrics evaluation"
   ]
  },
  {
   "cell_type": "code",
   "execution_count": 14,
   "id": "da84a146",
   "metadata": {},
   "outputs": [],
   "source": [
    "# Scores on pre-processed dataset\n",
    "rfc_acc = rfc_scores['test_accuracy']\n",
    "rfc_f1 = rfc_scores['test_f1']\n",
    "rfc_roc = rfc_scores['test_roc_auc']\n",
    "\n",
    "# Scores on consensus dataset\n",
    "rfc_acc_consensus = rfc_scores_consensus['test_accuracy']\n",
    "rfc_f1_consensus = rfc_scores_consensus['test_f1']\n",
    "rfc_roc_consensus = rfc_scores_consensus['test_roc_auc']"
   ]
  },
  {
   "cell_type": "code",
   "execution_count": 15,
   "id": "d7856013",
   "metadata": {},
   "outputs": [
    {
     "data": {
      "image/png": "[encoded data removed]",
      "text/plain": [
       "<Figure size 432x288 with 1 Axes>"
      ]
     },
     "metadata": {
      "needs_background": "light"
     },
     "output_type": "display_data"
    }
   ],
   "source": [
    "ufn.create_box_plot([rfc_acc, rfc_acc_consensus],['original', 'consensus'], 'rfc_acc.pdf', 'Random Forest Accuracy')"
   ]
  },
  {
   "cell_type": "code",
   "execution_count": null,
   "id": "ed9c6bfc",
   "metadata": {},
   "outputs": [],
   "source": [
    "ufn.create_box_plot([rfc_f1, rfc_f1_consensus],['original', 'consensus'], 'rfc_f1_score.pdf', 'Random Forest f1 score')"
   ]
  },
  {
   "cell_type": "code",
   "execution_count": null,
   "id": "ded69673",
   "metadata": {},
   "outputs": [],
   "source": [
    "ufn.create_box_plot([rfc_roc, rfc_roc_consensus],['original', 'consensus'], 'rfc_roc_auc.pdf', 'Random Forest ROC-AUC')"
   ]
  },
  {
   "cell_type": "markdown",
   "id": "da89ef76",
   "metadata": {},
   "source": [
    "## Support Vector Machine metrics evaluation"
   ]
  },
  {
   "cell_type": "code",
   "execution_count": null,
   "id": "bfd4ec33",
   "metadata": {},
   "outputs": [],
   "source": [
    "# Scores on pre-processed dataset\n",
    "svm_acc = svm_scores['test_accuracy']\n",
    "svm_f1 = svm_scores['test_f1']\n",
    "svm_roc = svm_scores['test_roc_auc']\n",
    "\n",
    "# Scores on consensus dataset\n",
    "svm_acc_consensus = svm_scores_consensus['test_accuracy']\n",
    "svm_f1_consensus = svm_scores_consensus['test_f1']\n",
    "svm_roc_consensus = svm_scores_consensus['test_roc_auc']"
   ]
  },
  {
   "cell_type": "code",
   "execution_count": null,
   "id": "eab15142",
   "metadata": {},
   "outputs": [],
   "source": [
    "ufn.create_box_plot([svm_acc, svm_acc_consensus],['original', 'consensus'], 'svm_acc.pdf', 'Support Vector Machine Accuracy')"
   ]
  },
  {
   "cell_type": "code",
   "execution_count": null,
   "id": "e077f3ad",
   "metadata": {},
   "outputs": [],
   "source": [
    "ufn.create_box_plot([svm_f1, svm_f1_consensus],['original', 'consensus'], 'svm_f1_score.pdf', 'Support Vector Machine f1 score')"
   ]
  },
  {
   "cell_type": "code",
   "execution_count": null,
   "id": "8a8d17ce",
   "metadata": {},
   "outputs": [],
   "source": [
    "ufn.create_box_plot([svm_roc, svm_roc_consensus],['original', 'consensus'], 'svm_roc_auc.pdf', 'Support Vector Machine ROC-AUC')"
   ]
  },
  {
   "cell_type": "markdown",
   "id": "aca7b51d",
   "metadata": {},
   "source": [
    "## Logistic Regression metrics evaluation\n"
   ]
  },
  {
   "cell_type": "code",
   "execution_count": null,
   "id": "bc973fc9",
   "metadata": {},
   "outputs": [],
   "source": [
    "# Scores on pre-processed dataset\n",
    "lrc_acc = lrc_scores['test_accuracy']\n",
    "lrc_f1 = lrc_scores['test_f1']\n",
    "lrc_roc = lrc_scores['test_roc_auc']\n",
    "\n",
    "# Scores on consensus dataset\n",
    "lrc_acc_consensus = lrc_scores_consensus['test_accuracy']\n",
    "lrc_f1_consensus = lrc_scores_consensus['test_f1']\n",
    "lrc_roc_consensus = lrc_scores_consensus['test_roc_auc']"
   ]
  },
  {
   "cell_type": "code",
   "execution_count": null,
   "id": "9b69627a",
   "metadata": {},
   "outputs": [],
   "source": [
    "ufn.create_box_plot([lrc_acc, lrc_acc_consensus],['original', 'consensus'], 'lrc_acc.pdf', 'Logistic Regression Accuracy')"
   ]
  },
  {
   "cell_type": "code",
   "execution_count": null,
   "id": "12b5cd1a",
   "metadata": {},
   "outputs": [],
   "source": [
    "ufn.create_box_plot([lrc_f1, lrc_f1_consensus],['original', 'consensus'], 'lrc_f1_score.pdf', 'Logistic Regression f1 score')"
   ]
  },
  {
   "cell_type": "code",
   "execution_count": null,
   "id": "9ad45d24",
   "metadata": {},
   "outputs": [],
   "source": [
    "ufn.create_box_plot([lrc_roc, lrc_roc_consensus],['original', 'consensus'], 'lrc_roc_auc.pdf', 'Logistic Regression ROC-AUC')"
   ]
  },
  {
   "cell_type": "code",
   "execution_count": null,
   "id": "221743f5",
   "metadata": {},
   "outputs": [],
   "source": [
    "# Scores on pre-processed dataset\n",
    "knn_acc = knn_scores['test_accuracy']\n",
    "knn_f1 = knn_scores['test_f1']\n",
    "knn_roc = knn_scores['test_roc_auc']\n",
    "\n",
    "# Scores on consensus dataset\n",
    "knn_acc_consensus = knn_scores_consensus['test_accuracy']\n",
    "knn_f1_consensus = knn_scores_consensus['test_f1']\n",
    "knn_roc_consensus = knn_scores_consensus['test_roc_auc']"
   ]
  },
  {
   "cell_type": "code",
   "execution_count": null,
   "id": "bc2b1738",
   "metadata": {},
   "outputs": [],
   "source": [
    "ufn.create_box_plot([knn_acc, knn_acc_consensus],['original', 'consensus'], 'knn_acc.pdf', 'K nearest neighbors Accuracy')"
   ]
  },
  {
   "cell_type": "code",
   "execution_count": null,
   "id": "be8db7e2",
   "metadata": {},
   "outputs": [],
   "source": [
    "ufn.create_box_plot([knn_f1, knn_f1_consensus],['original', 'consensus'], 'knn_f1_score.pdf', 'K nearest neighbors f1 score')"
   ]
  },
  {
   "cell_type": "code",
   "execution_count": null,
   "id": "251d1eca",
   "metadata": {},
   "outputs": [],
   "source": [
    "ufn.create_box_plot([knn_roc, knn_roc_consensus],['original', 'consensus'], 'knn_roc_auc.pdf', 'K nearest neighbors ROC-AUC')"
   ]
  },
  {
   "cell_type": "code",
   "execution_count": null,
   "id": "2cf417ca",
   "metadata": {},
   "outputs": [],
   "source": []
  }
 ],
 "metadata": {
  "kernelspec": {
   "display_name": "Python 3.9.5 64-bit",
   "language": "python",
   "name": "python3"
  },
  "language_info": {
   "codemirror_mode": {
    "name": "ipython",
    "version": 3
   },
   "file_extension": ".py",
   "mimetype": "text/x-python",
   "name": "python",
   "nbconvert_exporter": "python",
   "pygments_lexer": "ipython3",
   "version": "3.9.5"
  },
  "vscode": {
   "interpreter": {
    "hash": "996f2b6e98019c29df53ccff772a8e3fe7cdecb0ba4b3f6ddb9be804d297dd3d"
   }
  }
 },
 "nbformat": 4,
 "nbformat_minor": 5
}
